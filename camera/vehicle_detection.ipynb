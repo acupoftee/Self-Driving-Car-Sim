{
 "cells": [
  {
   "cell_type": "markdown",
   "metadata": {},
   "source": [
    "# Vehichle Detection"
   ]
  },
  {
   "cell_type": "markdown",
   "metadata": {},
   "source": [
    "This is the first module for the Self Driving Car simulation. This notebook is for visualizing vehicle detection results using the following machine learning and computer vision techniques. \n",
    "\n",
    "* Linear SVM: Creates an SVM model in a CPU which scales according to the size of the training data\n",
    "* Histogram of Oriented Gradients feature extraction: Breaks up image into regions and detecting local objects using light gradients or edge detection\n",
    "* Color Space Conversion\n",
    "* Space binning: Grouping data into smaller intervals\n",
    "* Histogram of color extraction\n",
    "* Sliding window"
   ]
  },
  {
   "cell_type": "code",
   "execution_count": null,
   "metadata": {},
   "outputs": [],
   "source": [
    "import matplotlib.image as mpimg\n",
    "import matplotlib.pyplot as plt\n",
    "import numpy as np\n",
    "import glob\n",
    "import time\n",
    "import cv2\n",
    "\n",
    "from skimage.feature import hog\n",
    "from sklearn.model_selection import train_test_split\n",
    "from sklearn.svm import LinearSVC\n",
    "from sklearn.preprocessing import StandardScaler\n",
    "%matplotlib inline"
   ]
  },
  {
   "cell_type": "markdown",
   "metadata": {},
   "source": [
    "## Helper Functions"
   ]
  },
  {
   "cell_type": "code",
   "execution_count": 2,
   "metadata": {},
   "outputs": [],
   "source": [
    "def get_hog_features(image, orient, pix_per_cell, cell_per_block,\n",
    "                    vis=False, feature_vec=True):\n",
    "    \"\"\"Returns features from an array of Oriented Gradients\"\"\"\n",
    "    if vis == True:\n",
    "        features, hog_image = hog(image, orientations=orient,\n",
    "                                 pixels_per_cell=(pix_per_cell, pix_per_cell),\n",
    "                                 cells_per_block=(cell_per_block, cell_per_block),\n",
    "                                 transform_sqrt=False,\n",
    "                                 visualize=vis, feature_vector=feature_vec)\n",
    "        return features, hog_image\n",
    "    else:\n",
    "        features = hog(image, orientations=orient,\n",
    "                        pixels_per_cell=(pix_per_cell, pix_per_cell),\n",
    "                        cells_per_block=(cell_per_block, cell_per_block),\n",
    "                        transform_sqrt=False,\n",
    "                        visualize=vis, feature_vector=feature_vec)\n",
    "        return features  "
   ]
  },
  {
   "cell_type": "code",
   "execution_count": 3,
   "metadata": {},
   "outputs": [],
   "source": [
    "def color_hist(img, nbins=32):    \n",
    "    \"\"\"Compute the histogram of the color channels separately\"\"\"\n",
    "    channel1_hist = np.histogram(img[:,:,0], bins=nbins)\n",
    "    channel2_hist = np.histogram(img[:,:,1], bins=nbins)\n",
    "    channel3_hist = np.histogram(img[:,:,2], bins=nbins)\n",
    "    \n",
    "    # Concatenate the histograms into a single feature vector\n",
    "    hist_features = np.concatenate((channel1_hist[0], channel2_hist[0], channel3_hist[0]))\n",
    "    \n",
    "    # Return the individual histograms, bin_centers and feature vector\n",
    "    return hist_features       "
   ]
  },
  {
   "cell_type": "code",
   "execution_count": 4,
   "metadata": {},
   "outputs": [],
   "source": [
    "def spatial_bin(img, size=(32, 32)):\n",
    "    \"\"\"Creates an array with rgb values\"\"\"\n",
    "    color1 = cv2.resize(img[:,:,0], size).ravel()\n",
    "    color2 = cv2.resize(img[:,:,1], size).ravel()\n",
    "    color3 = cv2.resize(img[:,:,2], size).ravel()\n",
    "    return np.hstack((color1, color2, color3))"
   ]
  },
  {
   "cell_type": "code",
   "execution_count": 8,
   "metadata": {},
   "outputs": [],
   "source": [
    "def extract_features(images, color_space='RGB', spatial_size=(32, 32), \n",
    "                    hist_bins=32, orient=9,\n",
    "                    pix_per_cell=8, cell_per_block=2, hog_channel=0,\n",
    "                    spatial_feat=True, hist_feat=True, hog_feat=True):\n",
    "    \"\"\"Extracts features from a list of 32x32 images\"\"\"\n",
    "    \n",
    "    # create a list to appened feature vectors\n",
    "    features = []\n",
    "    for file in images:\n",
    "        file_features = []\n",
    "        image = mpimg.imread(file)\n",
    "        # if it's not an 'RGB' photo, apply color conversion\n",
    "        if color_space != 'RGB':\n",
    "            if color_space == 'HSV':\n",
    "                feature_image = cv2.cvtColor(image, cv2.Color_RGB2HSV)\n",
    "            elif color_space == 'HLS':\n",
    "                feature_image = cv2.cvtColor(image, cv2.Color_RGB2HLS)\n",
    "            elif color_space == 'LUV':\n",
    "                feature_image = cv2.cvtColor(image, cv2.Color_RGB2LUV)\n",
    "            elif color_space == 'YUV':\n",
    "                feature_image = cv2.cvtColor(image, cv2.Color_RGB2YUV)\n",
    "            elif color_space == 'YCrCb':\n",
    "                feature_image = cv2.cvtColor(image, cv2.Color_RGB2YCrCb)\n",
    "        else:\n",
    "            feature_image = np.copy(image)\n",
    "            \n",
    "        if spatial_feature == True:\n",
    "            spatial_features = spatial_bin(feature_image, size=spatial_size)\n",
    "            file_features.append(spatial_features)\n",
    "        if hist_feat == True:\n",
    "            # apply histogram computations\n",
    "            hist_features = color_hist(feature_image, nbins=hist_bins)\n",
    "            file_features.append(hist_features)\n",
    "        if hog_feat == True:\n",
    "            if hog_channel == 'ALL':\n",
    "                hog_features = []\n",
    "                for channel in range(feature_image.shape[2]):\n",
    "                    hog_features.append(get_hog_features(feature_image[:,:,channel],\n",
    "                                                        orient, pix_per_cell, cell_per_block,\n",
    "                                                        vis=False, feature_vec=True))\n",
    "                hog_features = np.ravel(hog_features)\n",
    "            else:\n",
    "                hog_features = get_hog_features(feature_image[:,:,hog_channel], orient,\n",
    "                                               pix_per_cell, cell_per_block, vis=False, feature_vec=True)\n",
    "            \n",
    "            # append new feature vector to the list of features\n",
    "            file_features.append(hog_features)\n",
    "        features.append(np.concatenate(file_features))\n",
    "        \n",
    "        return features"
   ]
  },
  {
   "cell_type": "markdown",
   "metadata": {},
   "source": [
    "## Collect Data"
   ]
  },
  {
   "cell_type": "code",
   "execution_count": 20,
   "metadata": {},
   "outputs": [
    {
     "data": {
      "image/png": "[encoded data removed]",
      "text/plain": [
       "<matplotlib.figure.Figure at 0x117b358d0>"
      ]
     },
     "metadata": {},
     "output_type": "display_data"
    }
   ],
   "source": [
    "images = glob.glob('./data/OwnCollection/*/*/*.png')\n",
    "cars = []\n",
    "notcars = []\n",
    "all_cars = []\n",
    "all_notcars = []\n",
    "\n",
    "# collect images\n",
    "for image in images:\n",
    "    if 'non-vehicle' in image:\n",
    "        all_notcars.append(image)\n",
    "    else:\n",
    "        all_cars.append(image)\n",
    "\n",
    "# avoid overfitting by collecting only a fraction of the data\n",
    "for i, notcar in enumerate(all_notcars):\n",
    "    if i % 5 == 0:\n",
    "        notcars.append(notcar)\n",
    "        \n",
    "for i, car in enumerate(all_cars):\n",
    "    if i % 5 == 0:\n",
    "        cars.append(car)\n",
    "\n",
    "car_image = mpimg.imread(cars[0])\n",
    "notcar_image = mpimg.imread(notcars[5])      \n",
    "\n",
    "def compare_images(first_img, second_img, first_img_exp=\"Image 1\", second_img_exp=\"Image 2\"):\n",
    "    \"\"\"Draws a side by side comparison of the dataset pictures\"\"\"\n",
    "    f, (ax1, ax2) = plt.subplots(1, 2, figsize=(6, 3))\n",
    "    f.tight_layout()\n",
    "    ax1.imshow(first_img)\n",
    "    ax1.set_title(first_img_exp, fontsize=20)\n",
    "    ax2.imshow(second_img)\n",
    "    ax2.set_title(second_img_exp, fontsize=20)\n",
    "    plt.subplots_adjust(left=0., right=1, top=0.9, bottom=0.)\n",
    "\n",
    "compare_images(car_image, notcar_image, \"Car\", \"Not Car\")"
   ]
  },
  {
   "cell_type": "code",
   "execution_count": null,
   "metadata": {},
   "outputs": [],
   "source": []
  },
  {
   "cell_type": "code",
   "execution_count": null,
   "metadata": {},
   "outputs": [],
   "source": []
  }
 ],
 "metadata": {
  "kernelspec": {
   "display_name": "Python 3",
   "language": "python",
   "name": "python3"
  },
  "language_info": {
   "codemirror_mode": {
    "name": "ipython",
    "version": 3
   },
   "file_extension": ".py",
   "mimetype": "text/x-python",
   "name": "python",
   "nbconvert_exporter": "python",
   "pygments_lexer": "ipython3",
   "version": "3.6.3"
  }
 },
 "nbformat": 4,
 "nbformat_minor": 2
}
